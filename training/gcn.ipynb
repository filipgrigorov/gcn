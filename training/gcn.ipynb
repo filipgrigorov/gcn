{
 "cells": [
  {
   "cell_type": "code",
   "execution_count": 1,
   "metadata": {},
   "outputs": [],
   "source": [
    "import networkx as nx\n",
    "import numpy as np\n",
    "import matplotlib.pyplot as plt\n",
    "from scipy.linalg import fractional_matrix_power\n",
    "\n",
    "%matplotlib inline"
   ]
  },
  {
   "cell_type": "code",
   "execution_count": 2,
   "metadata": {},
   "outputs": [
    {
     "name": "stdout",
     "output_type": "stream",
     "text": [
      "Graph info (single mode): Name: G\n",
      "Type: Graph\n",
      "Number of nodes: 6\n",
      "Number of edges: 7\n",
      "Average degree:   2.3333\n",
      "\n",
      "Graph nodes: [(0, {'name': 0}), (1, {'name': 1}), (2, {'name': 2}), (3, {'name': 3}), (4, {'name': 4}), (5, {'name': 5})]\n",
      "\n"
     ]
    },
    {
     "data": {
      "image/png": "[encoded data removed]",
      "text/plain": [
       "<Figure size 432x288 with 1 Axes>"
      ]
     },
     "metadata": {},
     "output_type": "display_data"
    }
   ],
   "source": [
    "G = nx.Graph(name='G')\n",
    "[ G.add_node(idx, name=idx) for idx in range(6) ]\n",
    "\n",
    "edges = [(0,1),(0,2),(1,2),(0,3),(3,4),(3,5),(4,5)]\n",
    "\n",
    "G.add_edges_from(edges)\n",
    "\n",
    "print(f'Graph info (single mode): {nx.info(G)}\\n')\n",
    "\n",
    "print(f'Graph nodes: {G.nodes.data()}\\n')\n",
    "\n",
    "nx.draw(G, with_labels=True, font_weight='bold')\n",
    "plt.show()"
   ]
  },
  {
   "cell_type": "code",
   "execution_count": 40,
   "metadata": {},
   "outputs": [
    {
     "name": "stdout",
     "output_type": "stream",
     "text": [
      "A size: (6, 6)\n",
      "\n",
      "X size: (6, 1)\n"
     ]
    }
   ],
   "source": [
    "# We need to generate an Adjacency matrix (edges connections info) and features matrix (N x F) where N is the number of nodes and F is the number of features per node.\n",
    "# A: N x N\n",
    "A = np.array(nx.attr_matrix(G, node_attr='name')[0])\n",
    "# We need to include self-loops in the graph to include the feature of any given node i in the adjacency matrix\n",
    "np.fill_diagonal(A, 1)\n",
    "\n",
    "same_node_edges = [ (idx, idx) for idx in range(G.number_of_nodes()) ]\n",
    "G.add_edges_from(same_node_edges)\n",
    "print(f'A size: {A.shape}\\n')\n",
    "\n",
    "# X: N x F\n",
    "X = np.array(nx.attr_matrix(G, node_attr='name')[1])\n",
    "X = np.expand_dims(X, axis=1)\n",
    "print(f'X size: {X.shape}')"
   ]
  },
  {
   "cell_type": "code",
   "execution_count": 41,
   "metadata": {},
   "outputs": [
    {
     "name": "stdout",
     "output_type": "stream",
     "text": [
      "A: \n",
      "[[1. 1. 1. 1. 0. 0.]\n",
      " [1. 1. 1. 0. 0. 0.]\n",
      " [1. 1. 1. 0. 0. 0.]\n",
      " [1. 0. 0. 1. 1. 1.]\n",
      " [0. 0. 0. 1. 1. 1.]\n",
      " [0. 0. 0. 1. 1. 1.]]\n",
      "\n",
      "X: [[0]\n",
      " [1]\n",
      " [2]\n",
      " [3]\n",
      " [4]\n",
      " [5]]\n",
      "\n",
      "AX: [[ 6.  3.  3. 12. 12. 12.]]\n",
      "\n"
     ]
    }
   ],
   "source": [
    "print(f'A: \\n{A}\\n')\n",
    "print(f'X: {X}\\n')\n",
    "AX = A.dot(X)\n",
    "\n",
    "print(f'AX: {AX.T}\\n')"
   ]
  },
  {
   "cell_type": "code",
   "execution_count": 45,
   "metadata": {},
   "outputs": [
    {
     "name": "stdout",
     "output_type": "stream",
     "text": [
      "[(0, 5), (1, 4), (2, 4), (3, 5), (4, 4), (5, 4)]\n",
      "[[5 0 0 0 0 0]\n",
      " [0 4 0 0 0 0]\n",
      " [0 0 4 0 0 0]\n",
      " [0 0 0 5 0 0]\n",
      " [0 0 0 0 4 0]\n",
      " [0 0 0 0 0 4]]\n",
      "[[0.2  0.   0.   0.   0.   0.  ]\n",
      " [0.   0.25 0.   0.   0.   0.  ]\n",
      " [0.   0.   0.25 0.   0.   0.  ]\n",
      " [0.   0.   0.   0.2  0.   0.  ]\n",
      " [0.   0.   0.   0.   0.25 0.  ]\n",
      " [0.   0.   0.   0.   0.   0.25]]\n",
      "[[1.2 ]\n",
      " [0.75]\n",
      " [0.75]\n",
      " [2.4 ]\n",
      " [3.  ]\n",
      " [3.  ]]\n"
     ]
    }
   ],
   "source": [
    "# normalize AX by using the Degree Matrix, D -> AX_norm = D.invAX where degree is the number of edges any given node is connected to\n",
    "# D: N x N\n",
    "N = G.number_of_nodes()\n",
    "F = 1\n",
    "nedges_per_node = G.degree()\n",
    "print(nedges_per_node)\n",
    "D = np.diag([ pair[1] for pair in nedges_per_node ])\n",
    "print(D)\n",
    "D_inv = np.linalg.inv(D)\n",
    "print(D_inv)\n",
    "DAX = D_inv.dot(AX)\n",
    "print(DAX)"
   ]
  },
  {
   "cell_type": "code",
   "execution_count": 46,
   "metadata": {},
   "outputs": [
    {
     "name": "stdout",
     "output_type": "stream",
     "text": [
      "[[1.27082039]\n",
      " [0.75      ]\n",
      " [0.75      ]\n",
      " [2.61246118]\n",
      " [2.92082039]\n",
      " [2.92082039]]\n"
     ]
    }
   ],
   "source": [
    "# A better normalization would be by symmetric normalization\n",
    "D_inv_sqrt = fractional_matrix_power(D, -.5)\n",
    "DADX = D_inv_sqrt.dot(A.dot(D_inv_sqrt.dot(X)))\n",
    "print(DADX)"
   ]
  },
  {
   "cell_type": "code",
   "execution_count": 61,
   "metadata": {},
   "outputs": [
    {
     "name": "stdout",
     "output_type": "stream",
     "text": [
      "Features Representation from GCN output:\n",
      " [[0.00024625 0.00016864]\n",
      " [0.00016328 0.00011182]\n",
      " [0.00017258 0.00011819]\n",
      " [0.00049854 0.00034142]\n",
      " [0.00055407 0.00037944]\n",
      " [0.00056338 0.00038582]]\n"
     ]
    }
   ],
   "source": [
    "# 2 layers Graph Convolution Network\n",
    "# H_t+1 = activation(W_t.H_t.A) or H' = a(W.H.A* + b)\n",
    "np.random.seed(77777)\n",
    "nhidden = 4\n",
    "noutput = 2\n",
    "W0 = np.random.random((X.shape[1], nhidden)) * 0.01\n",
    "b0 = np.random.random(1)\n",
    "\n",
    "W1 = np.random.random((nhidden, noutput)) * 0.01\n",
    "b1 = np.random.random(1)\n",
    "\n",
    "def GCN(W, H, A):\n",
    "    I = np.identity(A.shape[0])\n",
    "    A_hat = A + I # extract diagonal values\n",
    "    D = np.diag(np.sum(A_hat, axis=0))\n",
    "    D_inv_sqrt = fractional_matrix_power(D, -0.5)\n",
    "    DADX = D_inv_sqrt.dot(A_hat).dot(D_inv_sqrt).dot(H).dot(W)\n",
    "    return np.maximum(0, DADX)\n",
    "\n",
    "H1 = GCN(W0, X, A)\n",
    "H2 = GCN(W1, H1, A)\n",
    "\n",
    "print('Features Representation from GCN output:\\n', H2)"
   ]
  },
  {
   "cell_type": "code",
   "execution_count": 62,
   "metadata": {},
   "outputs": [
    {
     "data": {
      "image/png": "[encoded data removed]",
      "text/plain": [
       "<Figure size 432x288 with 1 Axes>"
      ]
     },
     "metadata": {
      "needs_background": "light"
     },
     "output_type": "display_data"
    }
   ],
   "source": [
    "def plot_features(H2):\n",
    "    #Plot the features representation\n",
    "    x = H2[: , 0]\n",
    "    y = H2[: , 1]\n",
    "\n",
    "    size = 1000\n",
    "\n",
    "    plt.scatter(x, y, size)\n",
    "    plt.xlim([np.min(x) * 0.9, np.max(x) * 1.1])\n",
    "    plt.ylim([-1, 1])\n",
    "    plt.xlabel('Feature Representation Dimension 0')\n",
    "    plt.ylabel('Feature Representation Dimension 1')\n",
    "    plt.title('Feature Representation')\n",
    "\n",
    "    for i,row in enumerate(H2):\n",
    "        str = \"{}\".format(i)\n",
    "        plt.annotate(str, (row[0],row[1]),fontsize=18, fontweight='bold')\n",
    "\n",
    "    plt.show()\n",
    "\n",
    "\n",
    "plot_features(H2)"
   ]
  },
  {
   "cell_type": "code",
   "execution_count": null,
   "metadata": {},
   "outputs": [],
   "source": []
  }
 ],
 "metadata": {
  "kernelspec": {
   "display_name": "Python 3",
   "language": "python",
   "name": "python3"
  },
  "language_info": {
   "codemirror_mode": {
    "name": "ipython",
    "version": 3
   },
   "file_extension": ".py",
   "mimetype": "text/x-python",
   "name": "python",
   "nbconvert_exporter": "python",
   "pygments_lexer": "ipython3",
   "version": "3.7.9"
  }
 },
 "nbformat": 4,
 "nbformat_minor": 4
}
